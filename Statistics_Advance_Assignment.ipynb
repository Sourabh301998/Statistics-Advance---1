{
  "cells": [
    {
      "cell_type": "markdown",
      "id": "d19feae6",
      "metadata": {
        "id": "d19feae6"
      },
      "source": [
        "# Statistics Advance Assignment"
      ]
    },
    {
      "cell_type": "markdown",
      "id": "1dc4dcea",
      "metadata": {
        "id": "1dc4dcea"
      },
      "source": [
        "### 1. What is a random variable in probability theory\n",
        "\n",
        "A **random variable** is a variable that takes numerical values based on the outcome of a random phenomenon. It maps each outcome of a random experiment to a real number."
      ]
    },
    {
      "cell_type": "markdown",
      "id": "86084778",
      "metadata": {
        "id": "86084778"
      },
      "source": [
        "### 2. What are the types of random variables\n",
        "\n",
        "- **Discrete Random Variable**: Takes countable values (e.g., number of heads in coin toss).\n",
        "- **Continuous Random Variable**: Takes infinite values within a range (e.g., height, temperature)."
      ]
    },
    {
      "cell_type": "markdown",
      "id": "7cd18c5d",
      "metadata": {
        "id": "7cd18c5d"
      },
      "source": [
        "### 3. What is the difference between discrete and continuous distributions\n",
        "\n",
        "- **Discrete Distribution**: Defined for discrete variables (e.g., Binomial, Poisson).\n",
        "- **Continuous Distribution**: Defined over continuous range (e.g., Normal, Uniform)."
      ]
    },
    {
      "cell_type": "markdown",
      "id": "d12727ca",
      "metadata": {
        "id": "d12727ca"
      },
      "source": [
        "### 4. What are probability distribution functions (PDF)\n",
        "\n",
        "A **Probability Distribution Function (PDF)** describes the likelihood of a random variable to take a specific value. For continuous variables, it represents the density of the variable over a range."
      ]
    },
    {
      "cell_type": "markdown",
      "id": "663fd34d",
      "metadata": {
        "id": "663fd34d"
      },
      "source": [
        "### 5. How do cumulative distribution functions (CDF) differ from probability distribution functions (PDF)\n",
        "\n",
        "- **PDF** gives probability density.\n",
        "- **CDF** gives cumulative probability up to a point `x`.\n",
        "\n",
        "CDF(x) = P(X ≤ x)"
      ]
    },
    {
      "cell_type": "markdown",
      "id": "ee072634",
      "metadata": {
        "id": "ee072634"
      },
      "source": [
        "### 6. What is a discrete uniform distribution\n",
        "\n",
        "A **Discrete Uniform Distribution** is where all outcomes are equally likely. E.g., rolling a fair die."
      ]
    },
    {
      "cell_type": "markdown",
      "id": "393d0ccb",
      "metadata": {
        "id": "393d0ccb"
      },
      "source": [
        "### 7. What are the key properties of a Bernoulli distribution\n",
        "\n",
        "- Only 2 outcomes: success (1) or failure (0)\n",
        "- Probability of success: `p`, failure: `1 - p`\n",
        "- Mean = `p`, Variance = `p(1 - p)`"
      ]
    },
    {
      "cell_type": "markdown",
      "id": "7c4b67cf",
      "metadata": {
        "id": "7c4b67cf"
      },
      "source": [
        "### 8. What is the binomial distribution, and how is it used in probability\n",
        "\n",
        "It models number of successes in `n` independent Bernoulli trials with probability `p`.\n",
        "\n",
        "Formula: P(X = k) = C(n, k) * p^k * (1-p)^(n-k)"
      ]
    },
    {
      "cell_type": "markdown",
      "id": "44024bdb",
      "metadata": {
        "id": "44024bdb"
      },
      "source": [
        "### 9. What is the Poisson distribution and where is it applied\n",
        "\n",
        "It models the number of events in a fixed interval when events occur with constant rate `λ` and independently.\n",
        "\n",
        "Used in: call arrivals, email traffic, etc."
      ]
    },
    {
      "cell_type": "markdown",
      "id": "e0f08ede",
      "metadata": {
        "id": "e0f08ede"
      },
      "source": [
        "### 10. What is a continuous uniform distribution\n",
        "\n",
        "Every value in the interval `[a, b]` has equal probability. PDF = `1 / (b - a)` for `x ∈ [a, b]`."
      ]
    },
    {
      "cell_type": "markdown",
      "id": "1f69f2cd",
      "metadata": {
        "id": "1f69f2cd"
      },
      "source": [
        "### 11. What are the characteristics of a normal distribution\n",
        "\n",
        "- Bell-shaped, symmetric about mean\n",
        "- Mean = Median = Mode\n",
        "- Defined by mean (μ) and std deviation (σ)"
      ]
    },
    {
      "cell_type": "markdown",
      "id": "18b557e0",
      "metadata": {
        "id": "18b557e0"
      },
      "source": [
        "### 12. What is the standard normal distribution, and why is it important\n",
        "\n",
        "Normal distribution with μ=0 and σ=1. Allows comparison across distributions using Z-scores."
      ]
    },
    {
      "cell_type": "markdown",
      "id": "330ad530",
      "metadata": {
        "id": "330ad530"
      },
      "source": [
        "### 13. What is the Central Limit Theorem (CLT), and why is it critical in statistics\n",
        "\n",
        "CLT states that the sampling distribution of the sample mean approaches normality as sample size increases, regardless of the population’s distribution."
      ]
    },
    {
      "cell_type": "markdown",
      "id": "5d3362f6",
      "metadata": {
        "id": "5d3362f6"
      },
      "source": [
        "### 14. How does the Central Limit Theorem relate to the normal distribution\n",
        "\n",
        "It justifies the use of normal distribution for inference when sample size is large, even if the population is not normal."
      ]
    },
    {
      "cell_type": "markdown",
      "id": "59ed9582",
      "metadata": {
        "id": "59ed9582"
      },
      "source": [
        "### 15. What is the application of Z statistics in hypothesis testing\n",
        "\n",
        "Z-statistic is used to determine how far a sample statistic is from the population parameter under null hypothesis."
      ]
    },
    {
      "cell_type": "markdown",
      "id": "2b534f20",
      "metadata": {
        "id": "2b534f20"
      },
      "source": [
        "### 16. How do you calculate a Z-score, and what does it represent\n",
        "\n",
        "Z = (X - μ) / σ\n",
        "\n",
        "Represents how many standard deviations `X` is from the mean."
      ]
    },
    {
      "cell_type": "markdown",
      "id": "70201c42",
      "metadata": {
        "id": "70201c42"
      },
      "source": [
        "### 17. What are point estimates and interval estimates in statistics\n",
        "\n",
        "- **Point Estimate**: Single value estimate of a parameter (e.g., sample mean).\n",
        "- **Interval Estimate**: Range within which the parameter lies (e.g., confidence interval)."
      ]
    },
    {
      "cell_type": "markdown",
      "id": "fb2cd174",
      "metadata": {
        "id": "fb2cd174"
      },
      "source": [
        "### 18. What is the significance of confidence intervals in statistical analysis\n",
        "\n",
        "It gives a range of values which likely contains the population parameter with a certain confidence level (e.g., 95%)."
      ]
    },
    {
      "cell_type": "markdown",
      "id": "2b2413c1",
      "metadata": {
        "id": "2b2413c1"
      },
      "source": [
        "### 19. What is the relationship between a Z-score and a confidence interval\n",
        "\n",
        "Z-score determines the bounds of the confidence interval. E.g., for 95% CI, Z ≈ 1.96."
      ]
    },
    {
      "cell_type": "markdown",
      "id": "52232375",
      "metadata": {
        "id": "52232375"
      },
      "source": [
        "### 20. How are Z-scores used to compare different distributions\n",
        "\n",
        "They normalize data, allowing comparison across different distributions with different scales."
      ]
    },
    {
      "cell_type": "markdown",
      "id": "9c7cbc4b",
      "metadata": {
        "id": "9c7cbc4b"
      },
      "source": [
        "### 21. What are the assumptions for applying the Central Limit Theorem\n",
        "\n",
        "- Random sampling\n",
        "- Independent samples\n",
        "- Large sample size (n ≥ 30)\n",
        "- Finite mean and variance"
      ]
    },
    {
      "cell_type": "markdown",
      "id": "1f84c41b",
      "metadata": {
        "id": "1f84c41b"
      },
      "source": [
        "### 22. What is the concept of expected value in a probability distribution\n",
        "\n",
        "Expected value is the mean of a random variable: E[X] = Σ [x * P(x)] for discrete, or ∫ x*f(x) dx for continuous."
      ]
    },
    {
      "cell_type": "markdown",
      "id": "a505d1fa",
      "metadata": {
        "id": "a505d1fa"
      },
      "source": [
        "### 23. How does a probability distribution relate to the expected outcome of a random variable?\n",
        "\n",
        "Probability distribution determines the likelihood of outcomes, and expected value is the weighted average of all outcomes."
      ]
    }
  ],
  "metadata": {
    "colab": {
      "provenance": []
    }
  },
  "nbformat": 4,
  "nbformat_minor": 5
}